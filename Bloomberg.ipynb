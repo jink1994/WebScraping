{
 "cells": [
  {
   "cell_type": "code",
   "execution_count": 30,
   "metadata": {
    "colab": {},
    "colab_type": "code",
    "id": "LzQmDjLl0Dwj"
   },
   "outputs": [],
   "source": [
    "import time\n",
    "import pandas as pd\n",
    "from bs4 import BeautifulSoup\n",
    "# pip install selenium\n",
    "from selenium import webdriver\n",
    "from selenium.common.exceptions import NoSuchElementException\n",
    "#from selenium.webdriver.support.select import Select  (not necessary now)"
   ]
  },
  {
   "cell_type": "code",
   "execution_count": 31,
   "metadata": {
    "colab": {},
    "colab_type": "code",
    "id": "QakZjeRo0Dw2"
   },
   "outputs": [],
   "source": [
    "# a helper function to check if the button exists on the page\n",
    "def check_exists_by_xpath(xpath):\n",
    "    try:\n",
    "        browser.find_element_by_xpath(xpath)\n",
    "    except NoSuchElementException:\n",
    "        return False\n",
    "    return True"
   ]
  },
  {
   "cell_type": "code",
   "execution_count": 32,
   "metadata": {
    "colab": {},
    "colab_type": "code",
    "id": "9aebKNMr0Dw7"
   },
   "outputs": [],
   "source": [
    "# a helper function to show more articles\n",
    "def click_more_article():\n",
    "    more_article_exists = check_exists_by_xpath('//button[@class=\"button__e30d9cff secondary__ac37e1a2\"]')\n",
    "    if more_article_exists:\n",
    "        browser.find_element_by_xpath('//button[@class=\"button__e30d9cff secondary__ac37e1a2\"]').click()\n",
    "        time.sleep(5)"
   ]
  },
  {
   "cell_type": "code",
   "execution_count": 33,
   "metadata": {},
   "outputs": [],
   "source": [
    "# bloomberg website when searching 'electric vehicle'\n",
    "path = \"selenium/chromedriver\"\n",
    "link = \"https://www.bloomberg.com/search?query=electric%20vehicle\"\n",
    "#go to bloomberg and search the new key word and copy-paste the weblink here"
   ]
  },
  {
   "cell_type": "code",
   "execution_count": 34,
   "metadata": {
    "colab": {},
    "colab_type": "code",
    "id": "2sbWpkFK0DxB"
   },
   "outputs": [],
   "source": [
    "# start bloomberg page\n",
    "browser = webdriver.Chrome(path)\n",
    "browser.get(link)\n",
    "time.sleep(2)"
   ]
  },
  {
   "cell_type": "code",
   "execution_count": 35,
   "metadata": {},
   "outputs": [],
   "source": [
    "#set up filters\n",
    "\n",
    "browser.find_element_by_xpath('//a[contains(text(), \"Stories\")]').click()\n",
    "time.sleep(2)\n",
    "browser.find_element_by_xpath('//a[contains(text(), \"By Newest\")]').click()\n",
    "time.sleep(2)"
   ]
  },
  {
   "cell_type": "code",
   "execution_count": 40,
   "metadata": {
    "colab": {},
    "colab_type": "code",
    "id": "1R06ImPM0DxE",
    "scrolled": true
   },
   "outputs": [],
   "source": [
    "page_num = 900 # click 'more articles' 900 times\n",
    "\n",
    "headlines = []\n",
    "authors = []\n",
    "publish_date = []\n",
    "links = []\n",
    "\n",
    "\n",
    "for i in range(0, page_num):\n",
    "    #show more articles\n",
    "    click_more_article()  \n",
    "    \n",
    "# parse to a soup\n",
    "page_source = browser.page_source\n",
    "soup = BeautifulSoup(page_source, 'lxml')\n",
    "stories_content = soup.find_all('div', class_=\"text__1793994f withThumbnail__deb7b221\")\n",
    "\n",
    "# extract the headline, authors, publish_date, and link \n",
    "for story in stories_content:\n",
    "    headline = story.find('a', class_='headline__55bd5397').text\n",
    "    node = story.find('div', class_='authors__70a84826')\n",
    "    if node is not None:\n",
    "        author = node.text\n",
    "    else:\n",
    "        author = 'null'\n",
    "    #author = story.find('div', class_='authors__70a84826').text\n",
    "    date = story.find('div', class_='publishedAt__79f8aaad').text\n",
    "    link = story.find('a', class_='headline__55bd5397')['href']\n",
    "\n",
    "    # append to our accumulative lists\n",
    "    headlines.append(headline)\n",
    "    authors.append(author)\n",
    "    publish_date.append(date)\n",
    "    links.append(link)        \n"
   ]
  },
  {
   "cell_type": "code",
   "execution_count": 41,
   "metadata": {
    "colab": {},
    "colab_type": "code",
    "id": "Jxk9VudK0DxH",
    "outputId": "21b9705c-4d49-43ad-9500-a87d5bfd500b"
   },
   "outputs": [
    {
     "data": {
      "text/plain": [
       "(8579, 4)"
      ]
     },
     "execution_count": 41,
     "metadata": {},
     "output_type": "execute_result"
    }
   ],
   "source": [
    "data = {\n",
    "    'headlines':headlines,\n",
    "    'authors': authors,\n",
    "    'publish_date':publish_date,\n",
    "    'links':links\n",
    "}\n",
    "\n",
    "\n",
    "df = pd.DataFrame(data)\n",
    "\n",
    "# check the shape of our dataframe\n",
    "df.shape"
   ]
  },
  {
   "cell_type": "code",
   "execution_count": 42,
   "metadata": {
    "colab": {},
    "colab_type": "code",
    "id": "ApPSMYWm0DxK",
    "outputId": "6f8ff2a1-7975-4f71-95ef-07e1c954852b"
   },
   "outputs": [
    {
     "data": {
      "text/html": [
       "<div>\n",
       "<style scoped>\n",
       "    .dataframe tbody tr th:only-of-type {\n",
       "        vertical-align: middle;\n",
       "    }\n",
       "\n",
       "    .dataframe tbody tr th {\n",
       "        vertical-align: top;\n",
       "    }\n",
       "\n",
       "    .dataframe thead th {\n",
       "        text-align: right;\n",
       "    }\n",
       "</style>\n",
       "<table border=\"1\" class=\"dataframe\">\n",
       "  <thead>\n",
       "    <tr style=\"text-align: right;\">\n",
       "      <th></th>\n",
       "      <th>headlines</th>\n",
       "      <th>authors</th>\n",
       "      <th>publish_date</th>\n",
       "      <th>links</th>\n",
       "    </tr>\n",
       "  </thead>\n",
       "  <tbody>\n",
       "    <tr>\n",
       "      <td>0</td>\n",
       "      <td>Mercedes Drops More Hints About Its Sports Car...</td>\n",
       "      <td>By Christoph Rauwald</td>\n",
       "      <td>October 23, 2020</td>\n",
       "      <td>https://www.bloomberg.com/news/articles/2020-1...</td>\n",
       "    </tr>\n",
       "    <tr>\n",
       "      <td>1</td>\n",
       "      <td>Electric-Car Mania Turns Battery Makers Into P...</td>\n",
       "      <td>By Dana Hull and Gabrielle Coppola</td>\n",
       "      <td>October 23, 2020</td>\n",
       "      <td>https://www.bloomberg.com/news/articles/2020-1...</td>\n",
       "    </tr>\n",
       "    <tr>\n",
       "      <td>2</td>\n",
       "      <td>Canada’s Stock Winners and Losers in U.S. Vote...</td>\n",
       "      <td>By Divya Balji</td>\n",
       "      <td>October 23, 2020</td>\n",
       "      <td>https://www.bloomberg.com/news/articles/2020-1...</td>\n",
       "    </tr>\n",
       "    <tr>\n",
       "      <td>3</td>\n",
       "      <td>Tesla Is Recalling About 30,000 Imported Vehic...</td>\n",
       "      <td>By Charlie Zhu and Chunying Zhang</td>\n",
       "      <td>October 23, 2020</td>\n",
       "      <td>https://www.bloomberg.com/news/articles/2020-1...</td>\n",
       "    </tr>\n",
       "    <tr>\n",
       "      <td>4</td>\n",
       "      <td>Renault Beats Revenue Estimates as Electric-Ca...</td>\n",
       "      <td>By Tara Patel</td>\n",
       "      <td>October 23, 2020</td>\n",
       "      <td>https://www.bloomberg.com/news/articles/2020-1...</td>\n",
       "    </tr>\n",
       "  </tbody>\n",
       "</table>\n",
       "</div>"
      ],
      "text/plain": [
       "                                           headlines  \\\n",
       "0  Mercedes Drops More Hints About Its Sports Car...   \n",
       "1  Electric-Car Mania Turns Battery Makers Into P...   \n",
       "2  Canada’s Stock Winners and Losers in U.S. Vote...   \n",
       "3  Tesla Is Recalling About 30,000 Imported Vehic...   \n",
       "4  Renault Beats Revenue Estimates as Electric-Ca...   \n",
       "\n",
       "                              authors      publish_date  \\\n",
       "0                By Christoph Rauwald  October 23, 2020   \n",
       "1  By Dana Hull and Gabrielle Coppola  October 23, 2020   \n",
       "2                      By Divya Balji  October 23, 2020   \n",
       "3   By Charlie Zhu and Chunying Zhang  October 23, 2020   \n",
       "4                       By Tara Patel  October 23, 2020   \n",
       "\n",
       "                                               links  \n",
       "0  https://www.bloomberg.com/news/articles/2020-1...  \n",
       "1  https://www.bloomberg.com/news/articles/2020-1...  \n",
       "2  https://www.bloomberg.com/news/articles/2020-1...  \n",
       "3  https://www.bloomberg.com/news/articles/2020-1...  \n",
       "4  https://www.bloomberg.com/news/articles/2020-1...  "
      ]
     },
     "execution_count": 42,
     "metadata": {},
     "output_type": "execute_result"
    }
   ],
   "source": [
    "# take a glimpse \n",
    "df.head()"
   ]
  },
  {
   "cell_type": "code",
   "execution_count": 43,
   "metadata": {},
   "outputs": [],
   "source": [
    "df.to_csv('electric_vehicle1.csv',index=True)"
   ]
  },
  {
   "cell_type": "code",
   "execution_count": 44,
   "metadata": {},
   "outputs": [],
   "source": [
    "# close the browser\n",
    "browser.quit()"
   ]
  },
  {
   "cell_type": "code",
   "execution_count": null,
   "metadata": {},
   "outputs": [],
   "source": []
  }
 ],
 "metadata": {
  "colab": {
   "name": "12.2 Using Selenium to parse TripAdvisor reviews - v1.ipynb",
   "provenance": []
  },
  "kernelspec": {
   "display_name": "Python 3",
   "language": "python",
   "name": "python3"
  },
  "language_info": {
   "codemirror_mode": {
    "name": "ipython",
    "version": 3
   },
   "file_extension": ".py",
   "mimetype": "text/x-python",
   "name": "python",
   "nbconvert_exporter": "python",
   "pygments_lexer": "ipython3",
   "version": "3.7.4"
  }
 },
 "nbformat": 4,
 "nbformat_minor": 1
}
